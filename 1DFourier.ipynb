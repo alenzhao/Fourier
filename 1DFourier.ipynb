{
 "cells": [
  {
   "cell_type": "markdown",
   "metadata": {},
   "source": [
    "# 1D Fourier-sor\n",
    "\n",
    "Valamely folytonos periódusos $f(t)$ függvény trigonometrikus alaprendszer szerinti $N$-edrendű közelítése komplex együtthatókkal felírva\n",
    "\n",
    "$$f_N(t)=\\sum_{n=-N}^{N} c_n e^{i n \\omega_0 t}$$\n",
    "\n",
    "ahol a Fourier együtthatók\n",
    "\n",
    "$$c_n = \\frac{1}{T_0} \\int_{t_0}^{t_0+T} f(t) e^{-i n \\omega_0 t}$$\n",
    "\n",
    "egy teljes $T$ periódusra történő integrálással határozhatók meg. Az összefüggésben $\\omega_0$ az alapfrekvenciát jelöli ($\\omega_0 = \\frac{2 \\pi}{T}$).\n",
    "\n",
    "Ezeket a következő, [SymPy](http://www.sympy.org) szimbolikus algebrai számításokra kifejlesztett Python könyvtárat használó függvényekkel definiálhatjuk:"
   ]
  },
  {
   "cell_type": "code",
   "execution_count": 1,
   "metadata": {
    "collapsed": true
   },
   "outputs": [],
   "source": [
    "import sympy\n",
    "sympy.init_printing()\n",
    "%matplotlib inline\n",
    "\n",
    "i2pi = sympy.I*2*sympy.pi\n",
    "exp = sympy.exp\n",
    "\n",
    "def fN(N):\n",
    "    return sum(c(n)*exp(i2pi*n*t/T) for n in range(-N, N+1)).expand(complex=True).simplify()\n",
    "\n",
    "def c(n):\n",
    "    return (sympy.integrate(\n",
    "               f(t)*exp((-i2pi * n * t)/T), \n",
    "               (t, t0, t0 + T))/T)"
   ]
  },
  {
   "cell_type": "markdown",
   "metadata": {},
   "source": [
    "### Fűrészfog\n",
    "\n",
    "Példaként határozzuk meg a 'fűrészfog' függvény 1D Fourier-sorát.\n",
    "\n",
    "Definiáljuk az `f(t)` függvényt és a periódusát"
   ]
  },
  {
   "cell_type": "code",
   "execution_count": 2,
   "metadata": {
    "collapsed": false
   },
   "outputs": [],
   "source": [
    "def f(t):\n",
    "    return t\n",
    "\n",
    "T = 20\n",
    "t0 = 0\n",
    "\n",
    "t = sympy.Symbol('t', real=True)"
   ]
  },
  {
   "cell_type": "markdown",
   "metadata": {},
   "source": [
    "Írjuk fel a Fourier-sorát $N=6$-ig"
   ]
  },
  {
   "cell_type": "code",
   "execution_count": 3,
   "metadata": {
    "collapsed": false
   },
   "outputs": [
    {
     "data": {
      "image/png": "[encoded data removed]",
      "text/latex": [
       "$$- \\frac{20}{\\pi} \\sin{\\left (\\frac{\\pi t}{10} \\right )} - \\frac{10}{\\pi} \\sin{\\left (\\frac{\\pi t}{5} \\right )} - \\frac{20}{3 \\pi} \\sin{\\left (\\frac{3 \\pi}{10} t \\right )} - \\frac{5}{\\pi} \\sin{\\left (\\frac{2 \\pi}{5} t \\right )} - \\frac{4}{\\pi} \\sin{\\left (\\frac{\\pi t}{2} \\right )} - \\frac{10}{3 \\pi} \\sin{\\left (\\frac{3 \\pi}{5} t \\right )} + 10$$"
      ],
      "text/plain": [
       "        ⎛π⋅t⎞         ⎛π⋅t⎞         ⎛3⋅π⋅t⎞        ⎛2⋅π⋅t⎞        ⎛π⋅t⎞       \n",
       "  20⋅sin⎜───⎟   10⋅sin⎜───⎟   20⋅sin⎜─────⎟   5⋅sin⎜─────⎟   4⋅sin⎜───⎟   10⋅s\n",
       "        ⎝ 10⎠         ⎝ 5 ⎠         ⎝  10 ⎠        ⎝  5  ⎠        ⎝ 2 ⎠       \n",
       "- ─────────── - ─────────── - ───────────── - ──────────── - ────────── - ────\n",
       "       π             π             3⋅π             π             π            \n",
       "\n",
       "  ⎛3⋅π⋅t⎞     \n",
       "in⎜─────⎟     \n",
       "  ⎝  5  ⎠     \n",
       "───────── + 10\n",
       " 3⋅π          "
      ]
     },
     "execution_count": 3,
     "metadata": {},
     "output_type": "execute_result"
    }
   ],
   "source": [
    "N = 6\n",
    "\n",
    "analytic_approx = fN(N).expand()\n",
    "analytic_approx"
   ]
  },
  {
   "cell_type": "markdown",
   "metadata": {},
   "source": [
    "A függvényt csak  $y=t$ formában definiáltuk, mert a Fourier-sorfejtés mindig periódusos függvényt elemez. Láthatjuk azt, hogyan közelítette a függvényt a megadott $T$ perióduson, ha felrajzoljuk a közelítést nagyobb $t$ intervallumra."
   ]
  },
  {
   "cell_type": "code",
   "execution_count": 4,
   "metadata": {
    "collapsed": false
   },
   "outputs": [
    {
     "name": "stderr",
     "output_type": "stream",
     "text": [
      "/usr/lib/pymodules/python2.7/matplotlib/collections.py:548: FutureWarning: elementwise comparison failed; returning scalar instead, but in the future will perform elementwise comparison\n",
      "  if self._edgecolors == 'face':\n"
     ]
    },
    {
     "data": {
      "image/png": "[encoded data removed]",
      "text/plain": [
       "<matplotlib.figure.Figure at 0x7f53b22b83d0>"
      ]
     },
     "metadata": {},
     "output_type": "display_data"
    }
   ],
   "source": [
    "interval = (t, t0-T, t0+2*T)\n",
    "p1 = sympy.plot(f(t), interval, show=False)\n",
    "p2 = sympy.plot(analytic_approx, interval, show=False)\n",
    "p2[0].line_color = 'red'\n",
    "p1.extend(p2)\n",
    "p1.show()"
   ]
  },
  {
   "cell_type": "markdown",
   "metadata": {},
   "source": [
    "A szimbolikus megoldás helyett a numerikusan egyenértékű közelítő megoldást is előállíthatjuk a SymPy `mpmath` moduljával."
   ]
  },
  {
   "cell_type": "code",
   "execution_count": 5,
   "metadata": {
    "collapsed": false
   },
   "outputs": [
    {
     "data": {
      "image/png": "[encoded data removed]",
      "text/plain": [
       "<matplotlib.figure.Figure at 0x7f53b22c1a90>"
      ]
     },
     "metadata": {},
     "output_type": "display_data"
    }
   ],
   "source": [
    "import mpmath\n",
    "\n",
    "cs = sympy.mpmath.fourier(f, [t0, t0+T], N)\n",
    "\n",
    "def numeric_approx(t):\n",
    "    return mpmath.fourierval(cs, [t0, t0+T], t)\n",
    "\n",
    "mpmath.plot([f, numeric_approx], [t0, t0+T])"
   ]
  },
  {
   "cell_type": "markdown",
   "metadata": {},
   "source": [
    "Az mpmath.fourier függvénnyel kiszámított együtthatók az $f_N$ függvény koszinusz és szinusz együtthatói.\n",
    "\n",
    "$$f_N(t) = \\sum_{n=0}^N \\left(a_n \\cos\\left(\\frac{2\\pi nt}{T}\\right) + b_n \\sin\\left(\\frac{2\\pi nt}{T}\\right)\\right)$$\n",
    "\n",
    "Láthatjuk a hasonlóságot, ha kiszámoljuk az előzőleg szimbolikusan kapott kifejezést, és összevetjük a most kapott eredménnyel:"
   ]
  },
  {
   "cell_type": "code",
   "execution_count": 6,
   "metadata": {
    "collapsed": false
   },
   "outputs": [
    {
     "data": {
      "image/png": "[encoded data removed]",
      "text/latex": [
       "$$- 6.36619772367581 \\sin{\\left (\\frac{\\pi t}{10} \\right )} - 3.18309886183791 \\sin{\\left (\\frac{\\pi t}{5} \\right )} - 2.12206590789194 \\sin{\\left (\\frac{3 \\pi}{10} t \\right )} - 1.59154943091895 \\sin{\\left (\\frac{2 \\pi}{5} t \\right )} - 1.27323954473516 \\sin{\\left (\\frac{\\pi t}{2} \\right )} - 1.06103295394597 \\sin{\\left (\\frac{3 \\pi}{5} t \\right )} + 10.0$$"
      ],
      "text/plain": [
       "                      ⎛π⋅t⎞                       ⎛π⋅t⎞                       \n",
       "- 6.36619772367581⋅sin⎜───⎟ - 3.18309886183791⋅sin⎜───⎟ - 2.12206590789194⋅sin\n",
       "                      ⎝ 10⎠                       ⎝ 5 ⎠                       \n",
       "\n",
       "⎛3⋅π⋅t⎞                       ⎛2⋅π⋅t⎞                       ⎛π⋅t⎞             \n",
       "⎜─────⎟ - 1.59154943091895⋅sin⎜─────⎟ - 1.27323954473516⋅sin⎜───⎟ - 1.06103295\n",
       "⎝  10 ⎠                       ⎝  5  ⎠                       ⎝ 2 ⎠             \n",
       "\n",
       "          ⎛3⋅π⋅t⎞       \n",
       "394597⋅sin⎜─────⎟ + 10.0\n",
       "          ⎝  5  ⎠       "
      ]
     },
     "execution_count": 6,
     "metadata": {},
     "output_type": "execute_result"
    }
   ],
   "source": [
    "sympy.N(analytic_approx)"
   ]
  },
  {
   "cell_type": "code",
   "execution_count": 13,
   "metadata": {
    "collapsed": false
   },
   "outputs": [
    {
     "data": {
      "text/plain": [
       "([mpf('10.0'),\n",
       "  mpf('0.0'),\n",
       "  mpf('0.0'),\n",
       "  mpf('0.0'),\n",
       "  mpf('0.0'),\n",
       "  mpf('0.0'),\n",
       "  mpf('0.0')],\n",
       " [mpf('0.0'),\n",
       "  mpf('-6.366197723675814'),\n",
       "  mpf('-3.183098861837907'),\n",
       "  mpf('-2.1220659078919377'),\n",
       "  mpf('-1.5915494309189535'),\n",
       "  mpf('-1.2732395447351628'),\n",
       "  mpf('-1.0610329539459689')])"
      ]
     },
     "execution_count": 13,
     "metadata": {},
     "output_type": "execute_result"
    }
   ],
   "source": [
    "cs"
   ]
  },
  {
   "cell_type": "markdown",
   "metadata": {},
   "source": [
    "Csak szinuszos együtthatók vannak, mivel a függvényünk páratlan."
   ]
  }
 ],
 "metadata": {
  "kernelspec": {
   "display_name": "Python 2",
   "language": "python",
   "name": "python2"
  },
  "language_info": {
   "codemirror_mode": {
    "name": "ipython",
    "version": 2
   },
   "file_extension": ".py",
   "mimetype": "text/x-python",
   "name": "python",
   "nbconvert_exporter": "python",
   "pygments_lexer": "ipython2",
   "version": "2.7.6"
  }
 },
 "nbformat": 4,
 "nbformat_minor": 0
}
